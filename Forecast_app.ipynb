{
  "nbformat": 4,
  "nbformat_minor": 0,
  "metadata": {
    "colab": {
      "name": "Forecast_app.ipynb",
      "provenance": [],
      "toc_visible": true
    },
    "kernelspec": {
      "name": "python3",
      "display_name": "Python 3"
    },
    "language_info": {
      "name": "python"
    }
  },
  "cells": [
    {
      "cell_type": "code",
      "metadata": {
        "colab": {
          "base_uri": "https://localhost:8080/",
          "height": 35
        },
        "id": "JAoDeICRvL4f",
        "outputId": "48d7c9ac-0cdb-4a56-c27c-75ba52a54bd4"
      },
      "source": [
        "\"\"\"!pip install streamlit\n",
        "!pip install pyngrok\n",
        "!pip install fbprophet\n",
        "!pip install plotly\n",
        "!pip install yfinance\"\"\""
      ],
      "execution_count": 45,
      "outputs": [
        {
          "output_type": "execute_result",
          "data": {
            "application/vnd.google.colaboratory.intrinsic+json": {
              "type": "string"
            },
            "text/plain": [
              "'!pip install streamlit\\n!pip install pyngrok\\n!pip install fbprophet\\n!pip install plotly\\n!pip install yfinance'"
            ]
          },
          "metadata": {
            "tags": []
          },
          "execution_count": 45
        }
      ]
    },
    {
      "cell_type": "code",
      "metadata": {
        "colab": {
          "base_uri": "https://localhost:8080/"
        },
        "id": "uuJ0GVKBvyI0",
        "outputId": "c8198787-a445-4c66-e2c9-4fadc06cfdfa"
      },
      "source": [
        "%%writefile app.py\n",
        "\n",
        "import streamlit as st #importing our required packages and libraries\n",
        "from datetime import date\n",
        "import yfinance as yf\n",
        "from fbprophet import Prophet\n",
        "from fbprophet.plot import plot_plotly\n",
        "from plotly import graph_objs as go\n",
        "from PIL import Image\n",
        "\n",
        "image = Image.open('/content/Streamlit banner.png')\n",
        "st.image(image)\n",
        "st.markdown(\"<h1 style='text-align: center; color: White;background-color:#e84343'>Forecasting Stock Prices</h1>\", unsafe_allow_html=True)\n",
        "st.sidebar.header(\"Forecasting the Stock Prices using Historic Data\")\n",
        "st.sidebar.text(\"It's a web app that helps user forecast the price of a particular stock using the historic data of the stock.\")\n",
        "st.sidebar.header(\"Created by - Team MarketWatch\")\n",
        "st.sidebar.text(\"Member 1 - Aman Sharma\")\n",
        "st.sidebar.text(\"Member 2 - Bhumil Modi\")\n",
        "st.sidebar.text(\"Member 3 - Aayush Mishra\")\n",
        "\n",
        "\n",
        "START = \"2013-01-01\"\n",
        "TODAY = date.today().strftime(\"%Y-%m-%d\")\n",
        "stocks = ('GOOG', 'AAPL','MSFT','FB','NFLX','AMZN')\n",
        "selected_stock = st.selectbox('Select the stock you would like to make predictions for:', stocks)\n",
        "n_years = st.slider('Years of prediction:', 1, 5)\n",
        "period = n_years * 365\n",
        "\n",
        "def load_data(ticker):\n",
        "    data = yf.download(ticker, START, TODAY)\n",
        "    data.reset_index(inplace=True)\n",
        "    return data\n",
        "\t\n",
        "data_load_state = st.text('Loading data...')\n",
        "data = load_data(selected_stock)\n",
        "data_load_state.text('Loading data... done!')\n",
        "\n",
        "st.subheader('Original data')\n",
        "st.write(data.head())\n",
        "\n",
        "# Plot raw data\n",
        "def plot_raw_data():\n",
        "\tfig = go.Figure()\n",
        "\tfig.add_trace(go.Scatter(x=data['Date'], y=data['Open'], name=\"stock_open\"))\n",
        "\tfig.add_trace(go.Scatter(x=data['Date'], y=data['Close'], name=\"stock_close\"))\n",
        "\tfig.layout.update(title_text='Time Series data with Rangeslider', xaxis_rangeslider_visible=True)\n",
        "\tst.plotly_chart(fig)\n",
        "\t\n",
        "plot_raw_data()\n",
        "\n",
        "# Predict forecast with Prophet.\n",
        "df_train = data[['Date','Close']]\n",
        "df_train = df_train.rename(columns={\"Date\": \"ds\", \"Close\": \"y\"})\n",
        "\n",
        "m = Prophet()\n",
        "m.fit(df_train)\n",
        "future = m.make_future_dataframe(periods=period)\n",
        "forecast = m.predict(future)\n",
        "\n",
        "# Show and plot forecast\n",
        "st.subheader('Forecasted data')\n",
        "st.write(forecast.tail())\n",
        "    \n",
        "st.write(f'Forecasted plot for {n_years} years')\n",
        "fig1 = plot_plotly(m, forecast)\n",
        "st.plotly_chart(fig1)"
      ],
      "execution_count": 66,
      "outputs": [
        {
          "output_type": "stream",
          "text": [
            "Overwriting app.py\n"
          ],
          "name": "stdout"
        }
      ]
    },
    {
      "cell_type": "code",
      "metadata": {
        "colab": {
          "base_uri": "https://localhost:8080/"
        },
        "id": "rXJv0hXAxvfr",
        "outputId": "c933dec2-ac06-45ac-e7de-fb6137eddaca"
      },
      "source": [
        "!ngrok authtoken [your-auth-token]"
      ],
      "execution_count": 67,
      "outputs": [
        {
          "output_type": "stream",
          "text": [
            "Authtoken saved to configuration file: /root/.ngrok2/ngrok.yml\n"
          ],
          "name": "stdout"
        }
      ]
    },
    {
      "cell_type": "code",
      "metadata": {
        "colab": {
          "base_uri": "https://localhost:8080/"
        },
        "id": "DWJXWJKMxyRh",
        "outputId": "52badd12-9d25-4b89-8038-e560963f2e47"
      },
      "source": [
        "!nohup streamlit run app.py &"
      ],
      "execution_count": 68,
      "outputs": [
        {
          "output_type": "stream",
          "text": [
            "nohup: appending output to 'nohup.out'\n"
          ],
          "name": "stdout"
        }
      ]
    },
    {
      "cell_type": "code",
      "metadata": {
        "colab": {
          "base_uri": "https://localhost:8080/"
        },
        "id": "AVWlP3cjx1B8",
        "outputId": "749561f7-1358-43a5-a7f1-9ff6a1669d6b"
      },
      "source": [
        "from pyngrok import ngrok \n",
        "url = ngrok.connect(port = 8501)\n",
        "url"
      ],
      "execution_count": 69,
      "outputs": [
        {
          "output_type": "stream",
          "text": [
            "2021-04-29 13:59:10.401 INFO    pyngrok.ngrok: Opening tunnel named: http-80-d11ebba7-aa73-47f0-94d3-c4a26a809c33\n",
            "2021-04-29 13:59:10.442 INFO    pyngrok.process.ngrok: t=2021-04-29T13:59:10+0000 lvl=info msg=\"no configuration paths supplied\"\n",
            "2021-04-29 13:59:10.446 INFO    pyngrok.process.ngrok: t=2021-04-29T13:59:10+0000 lvl=info msg=\"using configuration at default config path\" path=/root/.ngrok2/ngrok.yml\n",
            "2021-04-29 13:59:10.452 INFO    pyngrok.process.ngrok: t=2021-04-29T13:59:10+0000 lvl=info msg=\"open config file\" path=/root/.ngrok2/ngrok.yml err=nil\n",
            "2021-04-29 13:59:10.475 INFO    pyngrok.process.ngrok: t=2021-04-29T13:59:10+0000 lvl=info msg=\"starting web service\" obj=web addr=127.0.0.1:4040\n",
            "2021-04-29 13:59:10.804 INFO    pyngrok.process.ngrok: t=2021-04-29T13:59:10+0000 lvl=info msg=\"tunnel session started\" obj=tunnels.session\n",
            "2021-04-29 13:59:10.807 INFO    pyngrok.process.ngrok: t=2021-04-29T13:59:10+0000 lvl=info msg=\"client session established\" obj=csess id=4544d143457d\n",
            "2021-04-29 13:59:10.815 INFO    pyngrok.process.ngrok: t=2021-04-29T13:59:10+0000 lvl=info msg=start pg=/api/tunnels id=6e7a238a0fb5f993\n",
            "2021-04-29 13:59:10.822 INFO    pyngrok.process.ngrok: t=2021-04-29T13:59:10+0000 lvl=info msg=end pg=/api/tunnels id=6e7a238a0fb5f993 status=200 dur=767.689µs\n",
            "2021-04-29 13:59:10.825 INFO    pyngrok.process.ngrok: t=2021-04-29T13:59:10+0000 lvl=info msg=start pg=/api/tunnels id=172e2cfac89791f5\n",
            "2021-04-29 13:59:10.829 INFO    pyngrok.process.ngrok: t=2021-04-29T13:59:10+0000 lvl=info msg=end pg=/api/tunnels id=172e2cfac89791f5 status=200 dur=173.714µs\n",
            "2021-04-29 13:59:10.832 INFO    pyngrok.process.ngrok: t=2021-04-29T13:59:10+0000 lvl=info msg=start pg=/api/tunnels id=28f0a4879d818e13\n",
            "2021-04-29 13:59:11.035 INFO    pyngrok.process.ngrok: t=2021-04-29T13:59:11+0000 lvl=info msg=\"started tunnel\" obj=tunnels name=\"http-80-d11ebba7-aa73-47f0-94d3-c4a26a809c33 (http)\" addr=http://localhost:80 url=http://d0b754926d7e.ngrok.io\n",
            "2021-04-29 13:59:11.044 INFO    pyngrok.process.ngrok: t=2021-04-29T13:59:11+0000 lvl=info msg=\"started tunnel\" obj=tunnels name=http-80-d11ebba7-aa73-47f0-94d3-c4a26a809c33 addr=http://localhost:80 url=https://d0b754926d7e.ngrok.io\n",
            "2021-04-29 13:59:11.049 INFO    pyngrok.process.ngrok: t=2021-04-29T13:59:11+0000 lvl=info msg=end pg=/api/tunnels id=28f0a4879d818e13 status=201 dur=216.082899ms\n"
          ],
          "name": "stderr"
        },
        {
          "output_type": "execute_result",
          "data": {
            "text/plain": [
              "<NgrokTunnel: \"http://d0b754926d7e.ngrok.io\" -> \"http://localhost:80\">"
            ]
          },
          "metadata": {
            "tags": []
          },
          "execution_count": 69
        },
        {
          "output_type": "stream",
          "text": [
            "2021-04-29 13:59:11.052 INFO    pyngrok.process.ngrok: t=2021-04-29T13:59:11+0000 lvl=info msg=start pg=\"/api/tunnels/http-80-d11ebba7-aa73-47f0-94d3-c4a26a809c33 (http)\" id=c379f18a104f6f4a\n",
            "2021-04-29 13:59:11.057 INFO    pyngrok.process.ngrok: t=2021-04-29T13:59:11+0000 lvl=info msg=end pg=\"/api/tunnels/http-80-d11ebba7-aa73-47f0-94d3-c4a26a809c33 (http)\" id=c379f18a104f6f4a status=200 dur=243.333µs\n"
          ],
          "name": "stderr"
        }
      ]
    },
    {
      "cell_type": "code",
      "metadata": {
        "colab": {
          "base_uri": "https://localhost:8080/"
        },
        "id": "vdLj0rjPx3rz",
        "outputId": "73b8e277-45a2-4c51-db80-373e547be470"
      },
      "source": [
        "!streamlit run --server.port 80 app.py >/dev/null"
      ],
      "execution_count": 70,
      "outputs": [
        {
          "output_type": "stream",
          "text": [
            "2021-04-29 13:59:14.977 An update to the [server] config option section was detected. To have these changes be reflected, please restart streamlit.\n",
            "2021-04-29 13:59:17.969 NumExpr defaulting to 2 threads.\n"
          ],
          "name": "stdout"
        },
        {
          "output_type": "stream",
          "text": [
            "2021-04-29 13:59:20.279 INFO    pyngrok.process.ngrok: t=2021-04-29T13:59:20+0000 lvl=info msg=\"join connections\" obj=join id=1dcc771f0b6d l=127.0.0.1:80 r=103.226.144.226:62438\n",
            "2021-04-29 13:59:20.685 INFO    pyngrok.process.ngrok: t=2021-04-29T13:59:20+0000 lvl=info msg=\"join connections\" obj=join id=78408cf6f830 l=127.0.0.1:80 r=103.226.144.226:62439\n",
            "2021-04-29 13:59:20.690 INFO    pyngrok.process.ngrok: t=2021-04-29T13:59:20+0000 lvl=info msg=\"join connections\" obj=join id=39582c9f073e l=127.0.0.1:80 r=103.226.144.226:62437\n"
          ],
          "name": "stderr"
        },
        {
          "output_type": "stream",
          "text": [
            "2021-04-29 13:59:23.122 Disabling daily seasonality. Run prophet with daily_seasonality=True to override this.\n"
          ],
          "name": "stdout"
        },
        {
          "output_type": "stream",
          "text": [
            "2021-04-29 13:59:24.047 INFO    pyngrok.process.ngrok: t=2021-04-29T13:59:24+0000 lvl=info msg=\"join connections\" obj=join id=0c13ae9f3339 l=127.0.0.1:80 r=103.226.144.226:62445\n",
            "2021-04-29 13:59:24.798 INFO    pyngrok.process.ngrok: t=2021-04-29T13:59:24+0000 lvl=info msg=\"join connections\" obj=join id=52a5b816cf70 l=127.0.0.1:80 r=103.226.144.226:62437\n",
            "2021-04-29 13:59:26.487 INFO    pyngrok.process.ngrok: t=2021-04-29T13:59:26+0000 lvl=info msg=\"join connections\" obj=join id=bf795f00fe87 l=127.0.0.1:80 r=103.226.144.226:62446\n",
            "2021-04-29 13:59:27.613 INFO    pyngrok.process.ngrok: t=2021-04-29T13:59:27+0000 lvl=info msg=\"join connections\" obj=join id=3c315a168abd l=127.0.0.1:80 r=103.226.144.226:62441\n",
            "2021-04-29 13:59:27.886 INFO    pyngrok.process.ngrok: t=2021-04-29T13:59:27+0000 lvl=info msg=\"join connections\" obj=join id=6a93da863946 l=127.0.0.1:80 r=103.226.144.226:62450\n",
            "2021-04-29 13:59:28.165 INFO    pyngrok.process.ngrok: t=2021-04-29T13:59:28+0000 lvl=info msg=\"join connections\" obj=join id=c1ff2dd4cd45 l=127.0.0.1:80 r=103.226.144.226:62441\n"
          ],
          "name": "stderr"
        },
        {
          "output_type": "stream",
          "text": [
            "2021-04-29 13:59:28.322 Disabling daily seasonality. Run prophet with daily_seasonality=True to override this.\n",
            "2021-04-29 14:00:20.399 Disabling daily seasonality. Run prophet with daily_seasonality=True to override this.\n",
            "2021-04-29 14:00:51.785 Disabling daily seasonality. Run prophet with daily_seasonality=True to override this.\n",
            "2021-04-29 14:02:17.736 Disabling daily seasonality. Run prophet with daily_seasonality=True to override this.\n",
            "2021-04-29 14:03:17.599 Disabling daily seasonality. Run prophet with daily_seasonality=True to override this.\n",
            "2021-04-29 14:05:10.130 Disabling daily seasonality. Run prophet with daily_seasonality=True to override this.\n",
            "2021-04-29 14:06:44.511 Disabling daily seasonality. Run prophet with daily_seasonality=True to override this.\n"
          ],
          "name": "stdout"
        },
        {
          "output_type": "stream",
          "text": [
            "2021-04-29 14:12:30.634 INFO    pyngrok.process.ngrok: t=2021-04-29T14:12:30+0000 lvl=info msg=\"join connections\" obj=join id=51fe03ae4680 l=127.0.0.1:80 r=103.226.144.226:49186\n",
            "2021-04-29 14:12:45.786 INFO    pyngrok.process.ngrok: t=2021-04-29T14:12:45+0000 lvl=info msg=\"join connections\" obj=join id=ced08a2e493f l=127.0.0.1:80 r=103.53.73.31:37300\n",
            "2021-04-29 14:12:46.329 INFO    pyngrok.process.ngrok: t=2021-04-29T14:12:46+0000 lvl=info msg=\"join connections\" obj=join id=1ec3245ce432 l=127.0.0.1:80 r=103.53.73.31:37302\n",
            "2021-04-29 14:12:46.332 INFO    pyngrok.process.ngrok: t=2021-04-29T14:12:46+0000 lvl=info msg=\"join connections\" obj=join id=4998d83b67da l=127.0.0.1:80 r=103.53.73.31:37304\n",
            "2021-04-29 14:12:55.609 INFO    pyngrok.process.ngrok: t=2021-04-29T14:12:55+0000 lvl=info msg=\"join connections\" obj=join id=a9dc49762f0b l=127.0.0.1:80 r=103.53.73.31:37312\n"
          ],
          "name": "stderr"
        },
        {
          "output_type": "stream",
          "text": [
            "2021-04-29 14:12:56.247 Future exception was never retrieved\n",
            "future: <Future finished exception=WebSocketClosedError()>\n",
            "Traceback (most recent call last):\n",
            "  File \"/usr/local/lib/python3.7/dist-packages/tornado/websocket.py\", line 874, in wrapper\n",
            "    yield fut\n",
            "  File \"/usr/local/lib/python3.7/dist-packages/tornado/gen.py\", line 1133, in run\n",
            "    value = future.result()\n",
            "tornado.iostream.StreamClosedError: Stream is closed\n",
            "\n",
            "During handling of the above exception, another exception occurred:\n",
            "\n",
            "Traceback (most recent call last):\n",
            "  File \"/usr/local/lib/python3.7/dist-packages/tornado/gen.py\", line 1141, in run\n",
            "    yielded = self.gen.throw(*exc_info)\n",
            "  File \"/usr/local/lib/python3.7/dist-packages/tornado/websocket.py\", line 876, in wrapper\n",
            "    raise WebSocketClosedError()\n",
            "tornado.websocket.WebSocketClosedError\n"
          ],
          "name": "stdout"
        },
        {
          "output_type": "stream",
          "text": [
            "2021-04-29 14:12:57.214 INFO    pyngrok.process.ngrok: t=2021-04-29T14:12:57+0000 lvl=info msg=\"join connections\" obj=join id=48247a04697e l=127.0.0.1:80 r=103.53.73.31:37314\n"
          ],
          "name": "stderr"
        },
        {
          "output_type": "stream",
          "text": [
            "2021-04-29 14:12:58.302 Disabling daily seasonality. Run prophet with daily_seasonality=True to override this.\n"
          ],
          "name": "stdout"
        },
        {
          "output_type": "stream",
          "text": [
            "2021-04-29 14:12:58.720 INFO    pyngrok.process.ngrok: t=2021-04-29T14:12:58+0000 lvl=info msg=\"join connections\" obj=join id=f403915cba2c l=127.0.0.1:80 r=103.53.73.31:37300\n",
            "2021-04-29 14:12:59.090 INFO    pyngrok.process.ngrok: t=2021-04-29T14:12:59+0000 lvl=info msg=\"join connections\" obj=join id=789fcf5ecc59 l=127.0.0.1:80 r=103.53.73.31:37318\n",
            "2021-04-29 14:12:59.104 INFO    pyngrok.process.ngrok: t=2021-04-29T14:12:59+0000 lvl=info msg=\"join connections\" obj=join id=e2b4e9cf569e l=127.0.0.1:80 r=103.53.73.31:37322\n",
            "2021-04-29 14:12:59.106 INFO    pyngrok.process.ngrok: t=2021-04-29T14:12:59+0000 lvl=info msg=\"join connections\" obj=join id=f5d5a98b1f8f l=127.0.0.1:80 r=103.53.73.31:37320\n",
            "2021-04-29 14:13:56.325 INFO    pyngrok.process.ngrok: t=2021-04-29T14:13:56+0000 lvl=info msg=\"received stop request\" obj=app stopReq=\"{err:<nil> restart:false}\"\n"
          ],
          "name": "stderr"
        }
      ]
    },
    {
      "cell_type": "code",
      "metadata": {
        "id": "w8jrIYlWx76p"
      },
      "source": [
        ""
      ],
      "execution_count": null,
      "outputs": []
    }
  ]
}